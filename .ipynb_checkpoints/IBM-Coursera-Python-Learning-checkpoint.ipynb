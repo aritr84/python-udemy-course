{
 "cells": [
  {
   "cell_type": "markdown",
   "id": "e5b0dd76",
   "metadata": {},
   "source": [
    "# Notes\n",
    "\n",
    "## What is Python?\n",
    "- Python is Interpreted Language\n",
    "- Interpreted Language vs Compiled Language\n",
    "    - Compiled Languages examine entire code at the compiled time and informs the error before execution\n",
    "    - They are converted directly into machine code\n",
    "    - Examples - C, C++, Rust, GO \n",
    "    - Interpreted Languages reads and executes code line by line in case of error it aborts the execution\n",
    "    - Examples - Javascript, Python, PHP, RUBY\n",
    "    \n",
    "    `JAVA` is both `compiled and interpreted`. First it is `compiled to byte code` and then byte-code `runs on JVM` which is software based interpreter\n",
    "    \n"
   ]
  },
  {
   "cell_type": "code",
   "execution_count": 7,
   "id": "2629eb63",
   "metadata": {},
   "outputs": [
    {
     "name": "stdout",
     "output_type": "stream",
     "text": [
      "3.9.13 (main, Aug 25 2022, 23:26:10) \n",
      "[GCC 11.2.0]\n",
      "sys.int_info(bits_per_digit=30, sizeof_digit=4)\n"
     ]
    }
   ],
   "source": [
    "# Check version of Python using\n",
    "import sys\n",
    "print(sys.version)\n"
   ]
  },
  {
   "cell_type": "code",
   "execution_count": 5,
   "id": "c75880d6",
   "metadata": {},
   "outputs": [
    {
     "name": "stdout",
     "output_type": "stream",
     "text": [
      "<class 'int'>\n",
      "<class 'float'>\n",
      "<class 'str'>\n",
      "<class 'bool'>\n"
     ]
    }
   ],
   "source": [
    "# Python Types\n",
    "# int\n",
    "print(type(1))\n",
    "#float\n",
    "print(type(0.11))\n",
    "#string\n",
    "print(type(\"aritra\"))\n",
    "# boolean\n",
    "print(type(True))"
   ]
  },
  {
   "cell_type": "code",
   "execution_count": 3,
   "id": "8b8140df",
   "metadata": {},
   "outputs": [
    {
     "name": "stdout",
     "output_type": "stream",
     "text": [
      "4\n",
      "True\n",
      "False\n",
      "1 0\n"
     ]
    }
   ],
   "source": [
    "# type casting\n",
    "\n",
    "print (int(4.889))\n",
    "# casting integer to boolean and vice-versa\n",
    "\n",
    "print (bool(1))\n",
    "print (bool(0))\n",
    "print (int(True), int(False))"
   ]
  },
  {
   "cell_type": "code",
   "execution_count": 4,
   "id": "d3fbd24a",
   "metadata": {},
   "outputs": [
    {
     "name": "stdout",
     "output_type": "stream",
     "text": [
      "10\n",
      "abc\n",
      "True\n"
     ]
    }
   ],
   "source": [
    "# variable\n",
    "a = 10\n",
    "print(a)\n",
    "a = 'abc'\n",
    "print(a)\n",
    "a = True\n",
    "print(a)"
   ]
  },
  {
   "cell_type": "code",
   "execution_count": 13,
   "id": "38b5e461",
   "metadata": {},
   "outputs": [
    {
     "name": "stdout",
     "output_type": "stream",
     "text": [
      "40.5\n",
      "9.166666666666666\n",
      "9\n"
     ]
    }
   ],
   "source": [
    "# Expressions\n",
    "# Arithmatic\n",
    "\n",
    "# '+', '-', '*'\n",
    "print(23+12+5.5)\n",
    "\n",
    "# Division with '/' returns float\n",
    "print(55/6)\n",
    "\n",
    "# Division with '//' returns int\n",
    "print(55//6)"
   ]
  },
  {
   "cell_type": "code",
   "execution_count": null,
   "id": "76fc316e",
   "metadata": {},
   "outputs": [],
   "source": [
    "# String Operations\n",
    "\n"
   ]
  }
 ],
 "metadata": {
  "kernelspec": {
   "display_name": "Python 3 (ipykernel)",
   "language": "python",
   "name": "python3"
  },
  "language_info": {
   "codemirror_mode": {
    "name": "ipython",
    "version": 3
   },
   "file_extension": ".py",
   "mimetype": "text/x-python",
   "name": "python",
   "nbconvert_exporter": "python",
   "pygments_lexer": "ipython3",
   "version": "3.9.13"
  }
 },
 "nbformat": 4,
 "nbformat_minor": 5
}
